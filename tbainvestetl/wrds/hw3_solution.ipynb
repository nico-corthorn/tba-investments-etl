{
 "cells": [
  {
   "cell_type": "code",
   "execution_count": 73,
   "id": "d7d38322",
   "metadata": {},
   "outputs": [],
   "source": [
    "# External\n",
    "import os\n",
    "import sys\n",
    "import pandas as pd\n",
    "import numpy as np\n",
    "from datetime import datetime\n",
    "import cvxpy as cp\n",
    "import matplotlib.pyplot as plt\n",
    "import seaborn as sns\n",
    "from dateutil.relativedelta import relativedelta\n",
    "import importlib\n",
    "\n",
    "from sklearn.linear_model import LinearRegression\n",
    "import statsmodels.api as sm\n",
    "\n",
    "import warnings\n",
    "warnings.filterwarnings(\"ignore\")"
   ]
  },
  {
   "cell_type": "code",
   "execution_count": 2,
   "id": "dc1393db",
   "metadata": {},
   "outputs": [
    {
     "data": {
      "text/plain": [
       "('D:\\\\coding\\\\dam\\\\hw230k\\\\hw2-3', 'D:\\\\coding\\\\dam\\\\hw230k\\\\hw2-3\\\\code')"
      ]
     },
     "execution_count": 2,
     "metadata": {},
     "output_type": "execute_result"
    }
   ],
   "source": [
    "module_path = os.path.abspath(os.path.join('..'))\n",
    "module_path, os.getcwd()"
   ]
  },
  {
   "cell_type": "code",
   "execution_count": 3,
   "id": "11726962",
   "metadata": {},
   "outputs": [
    {
     "name": "stdout",
     "output_type": "stream",
     "text": [
      "Adding D:\\coding\\dam\\hw230k\\hw2-3 to sys.path\n",
      "\n",
      "Changing directory from:\n",
      "    D:\\coding\\dam\\hw230k\\hw2-3\\code \n",
      "to: \n",
      "    D:\\coding\\dam\\hw230k\\hw2-3\n",
      "\n"
     ]
    }
   ],
   "source": [
    "if module_path not in sys.path:\n",
    "    print(f\"Adding {module_path} to sys.path\")\n",
    "    sys.path.append(module_path)\n",
    "if module_path != os.getcwd():\n",
    "    print(f\"\"\"\n",
    "Changing directory from:\n",
    "    {os.getcwd()} \n",
    "to: \n",
    "    {module_path}\n",
    "\"\"\"\n",
    "         )\n",
    "    os.chdir(module_path)"
   ]
  },
  {
   "cell_type": "code",
   "execution_count": 4,
   "id": "9883f3ef",
   "metadata": {
    "scrolled": true
   },
   "outputs": [],
   "source": [
    "# Internal\n",
    "from utils import sql_manager\n",
    "import hw3_solution"
   ]
  },
  {
   "cell_type": "code",
   "execution_count": 5,
   "id": "2a981644",
   "metadata": {},
   "outputs": [],
   "source": [
    "importlib.reload(sql_manager);\n",
    "importlib.reload(hw3_solution);"
   ]
  },
  {
   "cell_type": "code",
   "execution_count": 6,
   "id": "ea48ad33",
   "metadata": {},
   "outputs": [
    {
     "name": "stdout",
     "output_type": "stream",
     "text": [
      "D:\\coding\\dam\\hw230k\\hw2-3\n"
     ]
    }
   ],
   "source": [
    "sql = sql_manager.ManagerSQL()"
   ]
  },
  {
   "cell_type": "markdown",
   "id": "9d5f82e7",
   "metadata": {},
   "source": [
    "## Question 1\n",
    "\n",
    "### (a) \n",
    "\n",
    "#### i.\n",
    "\n",
    "We are here a bit careful with the fact that $r$ are excess returns instead of returns.\n",
    "\\begin{align*}\n",
    "\\tilde{r} &= h^T (r + \\textbf{1} r_f) - r_f \\\\\n",
    "          &= h^T r + h^T \\textbf{1} r_f - r_f \\\\\n",
    "          &= h^T r + r_f - r_f \\\\\n",
    "          &= h^T (X f + u) \\\\\n",
    "          &= h^T X f + h^T u \\\\\n",
    "\\end{align*}\n",
    "\n",
    "A natural definition would be to consider $h^T X$ as the factor loadings of the portfolio and $h^T u$ as the specific return of the portfolio.\n",
    "\n",
    "#### ii.\n",
    "\n",
    "\\begin{align*}\n",
    "Cov(r_n, r_m) \n",
    "    &= Cov(x_n, r_m) \\\\\n",
    "    &= Cov(x_n^T f + u_n, x_m^T f + u_m) \\\\\n",
    "    &= Cov(x_n^T f, x_m^T f) + Cov(u_n, u_m) \\quad \\text{Due to independence between $f$ and $u$} \\\\\n",
    "    &= x_n^T Cov(f, f) x_m + \\Delta_{n, m} \\\\\n",
    "    &= x_n^T F x_m + \\Delta_{n, m}\n",
    "\\end{align*}\n",
    "\n",
    "#### iii.\n",
    "\n",
    "Define $x^T = h^T X$ as the portfolio loading from part i. We will use the same tricks as in part ii.\n",
    "\n",
    "\\begin{align*}\n",
    "Cov(\\tilde{r}, \\tilde{r}) \n",
    "    &= Cov(x^T f + h^T u, x^T f + h^T u) \\\\\n",
    "    &= x^T Cov(f, f) x+ h^T Cov(u, u) h \\\\\n",
    "    &= h^T X F X^T h + h^T \\Delta h \\\\\n",
    "    &= h^T (X F X^T + \\Delta) h \\\\\n",
    "    &= h^t V h\n",
    "\\end{align*}\n",
    "\n",
    "#### iv.\n",
    "\n",
    "If we compute pair-wise correlations directly and there we are considering $N$ assets then the covariance matrix would have $N(N+1)/2$ independent estimations, which can easily result in many spurious results. The number of parameters estimated using this methodology is significantly lower. F has $5*6/2 = 15$ parameters, factor exposures are direct measurements for the most part (with the exception of beta that brings N estimations). Factor returns estimated are 5*T (and we are using T = 5*12 months for each computation). Specific volatility estimates are N. All in all, there are $2*N + 5*5*12 + 15 = O(N)$ which scales much better as N grows than direct pair-wise correlations which has $O(N^2)$ estimations.\n",
    "\n",
    "\n",
    "### (b)"
   ]
  },
  {
   "cell_type": "code",
   "execution_count": 7,
   "id": "db785ca7",
   "metadata": {},
   "outputs": [],
   "source": [
    "# Create tables\n",
    "if False:\n",
    "    hw3_solution.create_tables(sql)"
   ]
  },
  {
   "cell_type": "code",
   "execution_count": 8,
   "id": "b9fa7de1",
   "metadata": {},
   "outputs": [],
   "source": [
    "# Compute fitted returns and residual returns\n",
    "if False:\n",
    "    hw3_solution.upload_fitted_return_and_residual(sql, clean_table=True)"
   ]
  },
  {
   "cell_type": "code",
   "execution_count": 9,
   "id": "8edb3340",
   "metadata": {},
   "outputs": [],
   "source": [
    "# Compute specific volatility\n",
    "if False:\n",
    "    hw3_solution.upload_specific_vol(sql, clean_table=True)"
   ]
  },
  {
   "cell_type": "code",
   "execution_count": 10,
   "id": "1b58b828",
   "metadata": {
    "scrolled": true
   },
   "outputs": [],
   "source": [
    "# Compute factor returns covariance\n",
    "if False:\n",
    "    upload_cov_rho(sql, clean_table=True)"
   ]
  },
  {
   "cell_type": "code",
   "execution_count": 11,
   "id": "eef38e16",
   "metadata": {},
   "outputs": [],
   "source": [
    "# Retrive Jan 31st results\n",
    "\n",
    "# Date\n",
    "eom_date = datetime(2020, 3, 31)\n",
    "date_str = eom_date.strftime('%Y-%m-%d')\n",
    "\n",
    "# Covariance and correlation matrix\n",
    "query = f\"select * from reg_cov_rho where date = '{date_str}'\"\n",
    "cov_rho = sql.select_query(query)\n",
    "\n",
    "# Specific volatility\n",
    "query = f\"select * from reg_specific_vol where date = '{date_str}'\"\n",
    "vol = sql.select_query(query)"
   ]
  },
  {
   "cell_type": "code",
   "execution_count": 12,
   "id": "5ffa6080",
   "metadata": {},
   "outputs": [
    {
     "name": "stdout",
     "output_type": "stream",
     "text": [
      "Covariance matrix\n"
     ]
    },
    {
     "data": {
      "text/html": [
       "<div>\n",
       "<style scoped>\n",
       "    .dataframe tbody tr th:only-of-type {\n",
       "        vertical-align: middle;\n",
       "    }\n",
       "\n",
       "    .dataframe tbody tr th {\n",
       "        vertical-align: top;\n",
       "    }\n",
       "\n",
       "    .dataframe thead th {\n",
       "        text-align: right;\n",
       "    }\n",
       "</style>\n",
       "<table border=\"1\" class=\"dataframe\">\n",
       "  <thead>\n",
       "    <tr style=\"text-align: right;\">\n",
       "      <th>factor2</th>\n",
       "      <th>beta</th>\n",
       "      <th>bm</th>\n",
       "      <th>mom</th>\n",
       "      <th>size</th>\n",
       "      <th>vol</th>\n",
       "    </tr>\n",
       "    <tr>\n",
       "      <th>factor1</th>\n",
       "      <th></th>\n",
       "      <th></th>\n",
       "      <th></th>\n",
       "      <th></th>\n",
       "      <th></th>\n",
       "    </tr>\n",
       "  </thead>\n",
       "  <tbody>\n",
       "    <tr>\n",
       "      <th>beta</th>\n",
       "      <td>0.001936</td>\n",
       "      <td>0.000121</td>\n",
       "      <td>-0.000133</td>\n",
       "      <td>0.000103</td>\n",
       "      <td>0.000045</td>\n",
       "    </tr>\n",
       "    <tr>\n",
       "      <th>bm</th>\n",
       "      <td>0.000121</td>\n",
       "      <td>0.000098</td>\n",
       "      <td>-0.000035</td>\n",
       "      <td>0.000058</td>\n",
       "      <td>0.000024</td>\n",
       "    </tr>\n",
       "    <tr>\n",
       "      <th>mom</th>\n",
       "      <td>-0.000133</td>\n",
       "      <td>-0.000035</td>\n",
       "      <td>0.000122</td>\n",
       "      <td>-0.000015</td>\n",
       "      <td>0.000011</td>\n",
       "    </tr>\n",
       "    <tr>\n",
       "      <th>size</th>\n",
       "      <td>0.000103</td>\n",
       "      <td>0.000058</td>\n",
       "      <td>-0.000015</td>\n",
       "      <td>0.000114</td>\n",
       "      <td>0.000061</td>\n",
       "    </tr>\n",
       "    <tr>\n",
       "      <th>vol</th>\n",
       "      <td>0.000045</td>\n",
       "      <td>0.000024</td>\n",
       "      <td>0.000011</td>\n",
       "      <td>0.000061</td>\n",
       "      <td>0.000149</td>\n",
       "    </tr>\n",
       "  </tbody>\n",
       "</table>\n",
       "</div>"
      ],
      "text/plain": [
       "factor2      beta        bm       mom      size       vol\n",
       "factor1                                                  \n",
       "beta     0.001936  0.000121 -0.000133  0.000103  0.000045\n",
       "bm       0.000121  0.000098 -0.000035  0.000058  0.000024\n",
       "mom     -0.000133 -0.000035  0.000122 -0.000015  0.000011\n",
       "size     0.000103  0.000058 -0.000015  0.000114  0.000061\n",
       "vol      0.000045  0.000024  0.000011  0.000061  0.000149"
      ]
     },
     "execution_count": 12,
     "metadata": {},
     "output_type": "execute_result"
    }
   ],
   "source": [
    "print('Covariance matrix')\n",
    "cov_rho.pivot(index='factor1', columns='factor2', values='cov')"
   ]
  },
  {
   "cell_type": "code",
   "execution_count": 13,
   "id": "cb3931b9",
   "metadata": {},
   "outputs": [
    {
     "name": "stdout",
     "output_type": "stream",
     "text": [
      "Correlation matrix\n"
     ]
    },
    {
     "data": {
      "text/html": [
       "<div>\n",
       "<style scoped>\n",
       "    .dataframe tbody tr th:only-of-type {\n",
       "        vertical-align: middle;\n",
       "    }\n",
       "\n",
       "    .dataframe tbody tr th {\n",
       "        vertical-align: top;\n",
       "    }\n",
       "\n",
       "    .dataframe thead th {\n",
       "        text-align: right;\n",
       "    }\n",
       "</style>\n",
       "<table border=\"1\" class=\"dataframe\">\n",
       "  <thead>\n",
       "    <tr style=\"text-align: right;\">\n",
       "      <th>factor2</th>\n",
       "      <th>beta</th>\n",
       "      <th>bm</th>\n",
       "      <th>mom</th>\n",
       "      <th>size</th>\n",
       "      <th>vol</th>\n",
       "    </tr>\n",
       "    <tr>\n",
       "      <th>factor1</th>\n",
       "      <th></th>\n",
       "      <th></th>\n",
       "      <th></th>\n",
       "      <th></th>\n",
       "      <th></th>\n",
       "    </tr>\n",
       "  </thead>\n",
       "  <tbody>\n",
       "    <tr>\n",
       "      <th>beta</th>\n",
       "      <td>1.000000</td>\n",
       "      <td>0.278480</td>\n",
       "      <td>-0.273445</td>\n",
       "      <td>0.219227</td>\n",
       "      <td>0.084030</td>\n",
       "    </tr>\n",
       "    <tr>\n",
       "      <th>bm</th>\n",
       "      <td>0.278480</td>\n",
       "      <td>1.000000</td>\n",
       "      <td>-0.322712</td>\n",
       "      <td>0.545643</td>\n",
       "      <td>0.197344</td>\n",
       "    </tr>\n",
       "    <tr>\n",
       "      <th>mom</th>\n",
       "      <td>-0.273445</td>\n",
       "      <td>-0.322712</td>\n",
       "      <td>1.000000</td>\n",
       "      <td>-0.130838</td>\n",
       "      <td>0.083978</td>\n",
       "    </tr>\n",
       "    <tr>\n",
       "      <th>size</th>\n",
       "      <td>0.219227</td>\n",
       "      <td>0.545643</td>\n",
       "      <td>-0.130838</td>\n",
       "      <td>1.000000</td>\n",
       "      <td>0.466514</td>\n",
       "    </tr>\n",
       "    <tr>\n",
       "      <th>vol</th>\n",
       "      <td>0.084030</td>\n",
       "      <td>0.197344</td>\n",
       "      <td>0.083978</td>\n",
       "      <td>0.466514</td>\n",
       "      <td>1.000000</td>\n",
       "    </tr>\n",
       "  </tbody>\n",
       "</table>\n",
       "</div>"
      ],
      "text/plain": [
       "factor2      beta        bm       mom      size       vol\n",
       "factor1                                                  \n",
       "beta     1.000000  0.278480 -0.273445  0.219227  0.084030\n",
       "bm       0.278480  1.000000 -0.322712  0.545643  0.197344\n",
       "mom     -0.273445 -0.322712  1.000000 -0.130838  0.083978\n",
       "size     0.219227  0.545643 -0.130838  1.000000  0.466514\n",
       "vol      0.084030  0.197344  0.083978  0.466514  1.000000"
      ]
     },
     "execution_count": 13,
     "metadata": {},
     "output_type": "execute_result"
    }
   ],
   "source": [
    "print('Correlation matrix')\n",
    "cov_rho.pivot(index='factor1', columns='factor2', values='rho')"
   ]
  },
  {
   "cell_type": "code",
   "execution_count": 14,
   "id": "dffa6951",
   "metadata": {},
   "outputs": [
    {
     "data": {
      "text/plain": [
       "Text(0.5, 1.0, 'Correlation matrix of factor returns\\nusing trailing 5 years of Feb 2020')"
      ]
     },
     "execution_count": 14,
     "metadata": {},
     "output_type": "execute_result"
    },
    {
     "data": {
      "image/png": "[encoded data removed]",
      "text/plain": [
       "<Figure size 576x432 with 2 Axes>"
      ]
     },
     "metadata": {
      "needs_background": "light"
     },
     "output_type": "display_data"
    }
   ],
   "source": [
    "fig, ax = plt.subplots(figsize=(8, 6))\n",
    "sns.heatmap(cov_rho.pivot(index='factor1', columns='factor2', values='rho'), \n",
    "            vmin=-0.1, vmax=1, center=0, cmap=\"RdBu\", annot=True, ax=ax);\n",
    "ax.set_title('Correlation matrix of factor returns\\nusing trailing 5 years of Feb 2020', fontsize=14)"
   ]
  },
  {
   "cell_type": "code",
   "execution_count": 15,
   "id": "4aebee36",
   "metadata": {},
   "outputs": [
    {
     "data": {
      "text/plain": [
       "count    1271.000000\n",
       "mean        0.096206\n",
       "std         0.035763\n",
       "min         0.040259\n",
       "25%         0.071454\n",
       "50%         0.089154\n",
       "75%         0.113519\n",
       "max         0.286777\n",
       "Name: specific_vol, dtype: float64"
      ]
     },
     "execution_count": 15,
     "metadata": {},
     "output_type": "execute_result"
    }
   ],
   "source": [
    "# Summary statistics of specific vol\n",
    "vol.specific_vol.describe()"
   ]
  },
  {
   "cell_type": "markdown",
   "id": "d688491b",
   "metadata": {},
   "source": [
    "### (c)"
   ]
  },
  {
   "cell_type": "markdown",
   "id": "5e674147",
   "metadata": {},
   "source": [
    "### i.\n",
    "\n",
    "#### A."
   ]
  },
  {
   "cell_type": "code",
   "execution_count": 16,
   "id": "961b53c9",
   "metadata": {},
   "outputs": [],
   "source": [
    "# Date\n",
    "eom_date_factors = datetime(2018, 12, 31)\n",
    "date_str = eom_date_factors.strftime('%Y-%m-%d')\n",
    "\n",
    "query = f\"select * from crsp_monthly_returns_factors_sc where date = '{date_str}'\"\n",
    "ret_factors = sql.select_query(query)"
   ]
  },
  {
   "cell_type": "code",
   "execution_count": 17,
   "id": "12c363e7",
   "metadata": {},
   "outputs": [],
   "source": [
    "bool_lowvol = ret_factors.lowvol >= 0.4\n",
    "bool_small = ret_factors.small <= 0.3\n",
    "\n",
    "bool_beta = ret_factors.beta >= 0.9\n",
    "df_folio = ret_factors.loc[bool_lowvol & bool_small & bool_beta]"
   ]
  },
  {
   "cell_type": "code",
   "execution_count": 18,
   "id": "45a46346",
   "metadata": {},
   "outputs": [
    {
     "data": {
      "text/html": [
       "<div>\n",
       "<style scoped>\n",
       "    .dataframe tbody tr th:only-of-type {\n",
       "        vertical-align: middle;\n",
       "    }\n",
       "\n",
       "    .dataframe tbody tr th {\n",
       "        vertical-align: top;\n",
       "    }\n",
       "\n",
       "    .dataframe thead th {\n",
       "        text-align: right;\n",
       "    }\n",
       "</style>\n",
       "<table border=\"1\" class=\"dataframe\">\n",
       "  <thead>\n",
       "    <tr style=\"text-align: right;\">\n",
       "      <th></th>\n",
       "      <th>permno</th>\n",
       "      <th>ticker</th>\n",
       "      <th>beta</th>\n",
       "      <th>bm</th>\n",
       "      <th>small</th>\n",
       "      <th>mom</th>\n",
       "      <th>lowvol</th>\n",
       "    </tr>\n",
       "  </thead>\n",
       "  <tbody>\n",
       "    <tr>\n",
       "      <th>0</th>\n",
       "      <td>47896</td>\n",
       "      <td>JPM</td>\n",
       "      <td>1.166451</td>\n",
       "      <td>1.005229</td>\n",
       "      <td>-1.010555</td>\n",
       "      <td>-0.056744</td>\n",
       "      <td>0.435625</td>\n",
       "    </tr>\n",
       "    <tr>\n",
       "      <th>1</th>\n",
       "      <td>92655</td>\n",
       "      <td>UNH</td>\n",
       "      <td>0.958786</td>\n",
       "      <td>-0.416877</td>\n",
       "      <td>-0.823640</td>\n",
       "      <td>0.915430</td>\n",
       "      <td>0.488403</td>\n",
       "    </tr>\n",
       "    <tr>\n",
       "      <th>2</th>\n",
       "      <td>92611</td>\n",
       "      <td>V</td>\n",
       "      <td>1.024696</td>\n",
       "      <td>-0.780189</td>\n",
       "      <td>-0.803229</td>\n",
       "      <td>0.750197</td>\n",
       "      <td>0.420344</td>\n",
       "    </tr>\n",
       "    <tr>\n",
       "      <th>3</th>\n",
       "      <td>38703</td>\n",
       "      <td>WFC</td>\n",
       "      <td>1.072716</td>\n",
       "      <td>1.347780</td>\n",
       "      <td>-0.762199</td>\n",
       "      <td>-0.770459</td>\n",
       "      <td>0.522033</td>\n",
       "    </tr>\n",
       "    <tr>\n",
       "      <th>4</th>\n",
       "      <td>76076</td>\n",
       "      <td>CSCO</td>\n",
       "      <td>1.096573</td>\n",
       "      <td>-0.392657</td>\n",
       "      <td>-0.696009</td>\n",
       "      <td>0.893918</td>\n",
       "      <td>0.405997</td>\n",
       "    </tr>\n",
       "    <tr>\n",
       "      <th>5</th>\n",
       "      <td>66181</td>\n",
       "      <td>HD</td>\n",
       "      <td>1.177574</td>\n",
       "      <td>-1.101979</td>\n",
       "      <td>-0.693682</td>\n",
       "      <td>-0.498798</td>\n",
       "      <td>0.719116</td>\n",
       "    </tr>\n",
       "    <tr>\n",
       "      <th>6</th>\n",
       "      <td>26403</td>\n",
       "      <td>DIS</td>\n",
       "      <td>0.995852</td>\n",
       "      <td>-0.095087</td>\n",
       "      <td>-0.587076</td>\n",
       "      <td>0.033562</td>\n",
       "      <td>0.670811</td>\n",
       "    </tr>\n",
       "    <tr>\n",
       "      <th>7</th>\n",
       "      <td>10104</td>\n",
       "      <td>ORCL</td>\n",
       "      <td>0.945417</td>\n",
       "      <td>-0.413417</td>\n",
       "      <td>-0.582557</td>\n",
       "      <td>-0.129398</td>\n",
       "      <td>0.408522</td>\n",
       "    </tr>\n",
       "    <tr>\n",
       "      <th>8</th>\n",
       "      <td>20482</td>\n",
       "      <td>ABT</td>\n",
       "      <td>1.194863</td>\n",
       "      <td>-0.302694</td>\n",
       "      <td>-0.432645</td>\n",
       "      <td>1.020348</td>\n",
       "      <td>0.532287</td>\n",
       "    </tr>\n",
       "    <tr>\n",
       "      <th>9</th>\n",
       "      <td>22592</td>\n",
       "      <td>MMM</td>\n",
       "      <td>1.062833</td>\n",
       "      <td>-0.835551</td>\n",
       "      <td>-0.349245</td>\n",
       "      <td>-0.847476</td>\n",
       "      <td>0.850621</td>\n",
       "    </tr>\n",
       "    <tr>\n",
       "      <th>10</th>\n",
       "      <td>12490</td>\n",
       "      <td>IBM</td>\n",
       "      <td>1.064234</td>\n",
       "      <td>-0.627944</td>\n",
       "      <td>-0.305260</td>\n",
       "      <td>-1.186271</td>\n",
       "      <td>0.538092</td>\n",
       "    </tr>\n",
       "    <tr>\n",
       "      <th>11</th>\n",
       "      <td>10145</td>\n",
       "      <td>HON</td>\n",
       "      <td>1.015516</td>\n",
       "      <td>-0.558742</td>\n",
       "      <td>-0.271586</td>\n",
       "      <td>-0.275842</td>\n",
       "      <td>0.910346</td>\n",
       "    </tr>\n",
       "    <tr>\n",
       "      <th>12</th>\n",
       "      <td>17830</td>\n",
       "      <td>UTX</td>\n",
       "      <td>1.054014</td>\n",
       "      <td>-0.133148</td>\n",
       "      <td>-0.233437</td>\n",
       "      <td>-0.480969</td>\n",
       "      <td>0.803375</td>\n",
       "    </tr>\n",
       "    <tr>\n",
       "      <th>13</th>\n",
       "      <td>62092</td>\n",
       "      <td>TMO</td>\n",
       "      <td>1.039749</td>\n",
       "      <td>-0.088167</td>\n",
       "      <td>-0.220979</td>\n",
       "      <td>1.006100</td>\n",
       "      <td>0.502287</td>\n",
       "    </tr>\n",
       "    <tr>\n",
       "      <th>14</th>\n",
       "      <td>87055</td>\n",
       "      <td>COST</td>\n",
       "      <td>0.937870</td>\n",
       "      <td>-0.683306</td>\n",
       "      <td>-0.218511</td>\n",
       "      <td>0.768164</td>\n",
       "      <td>0.731988</td>\n",
       "    </tr>\n",
       "    <tr>\n",
       "      <th>15</th>\n",
       "      <td>59176</td>\n",
       "      <td>AXP</td>\n",
       "      <td>1.174064</td>\n",
       "      <td>-0.309614</td>\n",
       "      <td>-0.158695</td>\n",
       "      <td>0.318451</td>\n",
       "      <td>0.440717</td>\n",
       "    </tr>\n",
       "    <tr>\n",
       "      <th>16</th>\n",
       "      <td>21178</td>\n",
       "      <td>LMT</td>\n",
       "      <td>0.960156</td>\n",
       "      <td>-1.091599</td>\n",
       "      <td>-0.103707</td>\n",
       "      <td>-0.564180</td>\n",
       "      <td>0.825818</td>\n",
       "    </tr>\n",
       "    <tr>\n",
       "      <th>17</th>\n",
       "      <td>66157</td>\n",
       "      <td>USB</td>\n",
       "      <td>1.003651</td>\n",
       "      <td>0.666138</td>\n",
       "      <td>-0.098569</td>\n",
       "      <td>-0.186375</td>\n",
       "      <td>0.812945</td>\n",
       "    </tr>\n",
       "    <tr>\n",
       "      <th>18</th>\n",
       "      <td>49680</td>\n",
       "      <td>DHR</td>\n",
       "      <td>0.964890</td>\n",
       "      <td>0.129820</td>\n",
       "      <td>-0.085263</td>\n",
       "      <td>0.484157</td>\n",
       "      <td>0.920267</td>\n",
       "    </tr>\n",
       "    <tr>\n",
       "      <th>19</th>\n",
       "      <td>87447</td>\n",
       "      <td>UPS</td>\n",
       "      <td>1.160484</td>\n",
       "      <td>-0.980876</td>\n",
       "      <td>-0.045911</td>\n",
       "      <td>-0.365803</td>\n",
       "      <td>0.780058</td>\n",
       "    </tr>\n",
       "    <tr>\n",
       "      <th>20</th>\n",
       "      <td>39642</td>\n",
       "      <td>BDX</td>\n",
       "      <td>1.203317</td>\n",
       "      <td>-0.095087</td>\n",
       "      <td>0.022132</td>\n",
       "      <td>0.510489</td>\n",
       "      <td>0.783199</td>\n",
       "    </tr>\n",
       "    <tr>\n",
       "      <th>21</th>\n",
       "      <td>44644</td>\n",
       "      <td>ADP</td>\n",
       "      <td>0.934315</td>\n",
       "      <td>-0.852851</td>\n",
       "      <td>0.058905</td>\n",
       "      <td>0.852777</td>\n",
       "      <td>0.691129</td>\n",
       "    </tr>\n",
       "    <tr>\n",
       "      <th>22</th>\n",
       "      <td>60442</td>\n",
       "      <td>PNC</td>\n",
       "      <td>1.060935</td>\n",
       "      <td>1.243976</td>\n",
       "      <td>0.094933</td>\n",
       "      <td>-0.542189</td>\n",
       "      <td>0.500057</td>\n",
       "    </tr>\n",
       "    <tr>\n",
       "      <th>23</th>\n",
       "      <td>12052</td>\n",
       "      <td>GD</td>\n",
       "      <td>1.095775</td>\n",
       "      <td>-0.368436</td>\n",
       "      <td>0.185650</td>\n",
       "      <td>-0.748205</td>\n",
       "      <td>0.683940</td>\n",
       "    </tr>\n",
       "    <tr>\n",
       "      <th>24</th>\n",
       "      <td>17478</td>\n",
       "      <td>SPGI</td>\n",
       "      <td>1.133748</td>\n",
       "      <td>-1.063918</td>\n",
       "      <td>0.239824</td>\n",
       "      <td>0.069470</td>\n",
       "      <td>0.407424</td>\n",
       "    </tr>\n",
       "    <tr>\n",
       "      <th>25</th>\n",
       "      <td>56573</td>\n",
       "      <td>ITW</td>\n",
       "      <td>1.176701</td>\n",
       "      <td>-0.811330</td>\n",
       "      <td>0.248584</td>\n",
       "      <td>-1.178089</td>\n",
       "      <td>0.741190</td>\n",
       "    </tr>\n",
       "  </tbody>\n",
       "</table>\n",
       "</div>"
      ],
      "text/plain": [
       "    permno ticker      beta        bm     small       mom    lowvol\n",
       "0    47896    JPM  1.166451  1.005229 -1.010555 -0.056744  0.435625\n",
       "1    92655    UNH  0.958786 -0.416877 -0.823640  0.915430  0.488403\n",
       "2    92611      V  1.024696 -0.780189 -0.803229  0.750197  0.420344\n",
       "3    38703    WFC  1.072716  1.347780 -0.762199 -0.770459  0.522033\n",
       "4    76076   CSCO  1.096573 -0.392657 -0.696009  0.893918  0.405997\n",
       "5    66181     HD  1.177574 -1.101979 -0.693682 -0.498798  0.719116\n",
       "6    26403    DIS  0.995852 -0.095087 -0.587076  0.033562  0.670811\n",
       "7    10104   ORCL  0.945417 -0.413417 -0.582557 -0.129398  0.408522\n",
       "8    20482    ABT  1.194863 -0.302694 -0.432645  1.020348  0.532287\n",
       "9    22592    MMM  1.062833 -0.835551 -0.349245 -0.847476  0.850621\n",
       "10   12490    IBM  1.064234 -0.627944 -0.305260 -1.186271  0.538092\n",
       "11   10145    HON  1.015516 -0.558742 -0.271586 -0.275842  0.910346\n",
       "12   17830    UTX  1.054014 -0.133148 -0.233437 -0.480969  0.803375\n",
       "13   62092    TMO  1.039749 -0.088167 -0.220979  1.006100  0.502287\n",
       "14   87055   COST  0.937870 -0.683306 -0.218511  0.768164  0.731988\n",
       "15   59176    AXP  1.174064 -0.309614 -0.158695  0.318451  0.440717\n",
       "16   21178    LMT  0.960156 -1.091599 -0.103707 -0.564180  0.825818\n",
       "17   66157    USB  1.003651  0.666138 -0.098569 -0.186375  0.812945\n",
       "18   49680    DHR  0.964890  0.129820 -0.085263  0.484157  0.920267\n",
       "19   87447    UPS  1.160484 -0.980876 -0.045911 -0.365803  0.780058\n",
       "20   39642    BDX  1.203317 -0.095087  0.022132  0.510489  0.783199\n",
       "21   44644    ADP  0.934315 -0.852851  0.058905  0.852777  0.691129\n",
       "22   60442    PNC  1.060935  1.243976  0.094933 -0.542189  0.500057\n",
       "23   12052     GD  1.095775 -0.368436  0.185650 -0.748205  0.683940\n",
       "24   17478   SPGI  1.133748 -1.063918  0.239824  0.069470  0.407424\n",
       "25   56573    ITW  1.176701 -0.811330  0.248584 -1.178089  0.741190"
      ]
     },
     "execution_count": 18,
     "metadata": {},
     "output_type": "execute_result"
    }
   ],
   "source": [
    "factors = ['beta', 'bm', 'small', 'mom', 'lowvol']\n",
    "df_folio[['permno', 'ticker'] + factors].reset_index(drop=True)"
   ]
  },
  {
   "cell_type": "code",
   "execution_count": 19,
   "id": "cecbed52",
   "metadata": {},
   "outputs": [],
   "source": [
    "n = df_folio.shape[0]\n",
    "df_folio['portfolio_weight'] = 1/n\n",
    "df_folio[['permno', 'ticker', 'portfolio_weight']].to_csv('data/hw3_portfolio_weights.csv', index=False)"
   ]
  },
  {
   "cell_type": "markdown",
   "id": "643cb950",
   "metadata": {},
   "source": [
    "#### B."
   ]
  },
  {
   "cell_type": "code",
   "execution_count": 250,
   "id": "106b7d31",
   "metadata": {},
   "outputs": [
    {
     "name": "stdout",
     "output_type": "stream",
     "text": [
      "Portofolio loadings\n"
     ]
    },
    {
     "data": {
      "text/html": [
       "<div>\n",
       "<style scoped>\n",
       "    .dataframe tbody tr th:only-of-type {\n",
       "        vertical-align: middle;\n",
       "    }\n",
       "\n",
       "    .dataframe tbody tr th {\n",
       "        vertical-align: top;\n",
       "    }\n",
       "\n",
       "    .dataframe thead th {\n",
       "        text-align: right;\n",
       "    }\n",
       "</style>\n",
       "<table border=\"1\" class=\"dataframe\">\n",
       "  <thead>\n",
       "    <tr style=\"text-align: right;\">\n",
       "      <th></th>\n",
       "      <th>beta</th>\n",
       "      <th>bm</th>\n",
       "      <th>small</th>\n",
       "      <th>mom</th>\n",
       "      <th>lowvol</th>\n",
       "    </tr>\n",
       "  </thead>\n",
       "  <tbody>\n",
       "    <tr>\n",
       "      <th>0</th>\n",
       "      <td>1.06443</td>\n",
       "      <td>-0.292713</td>\n",
       "      <td>-0.293566</td>\n",
       "      <td>-0.00799</td>\n",
       "      <td>0.635638</td>\n",
       "    </tr>\n",
       "  </tbody>\n",
       "</table>\n",
       "</div>"
      ],
      "text/plain": [
       "      beta        bm     small      mom    lowvol\n",
       "0  1.06443 -0.292713 -0.293566 -0.00799  0.635638"
      ]
     },
     "execution_count": 250,
     "metadata": {},
     "output_type": "execute_result"
    }
   ],
   "source": [
    "print(\"Portofolio loadings\")\n",
    "h = df_folio[['permno', 'portfolio_weight']].set_index('permno')\n",
    "X = df_folio[['permno'] + factors].set_index('permno')\n",
    "(h.transpose() @ X).reset_index(drop=True)"
   ]
  },
  {
   "cell_type": "markdown",
   "id": "e08b32a3",
   "metadata": {},
   "source": [
    "The portfolio has a beta close to 1 and an exposure to low vol of around 0.6. There is also negative exposure to book to market and size of around -0.3. There is no exposure to momentum. The intention seems to be to enhance typical market returns by having exposure to low volatility. An investor holding this portfolio likely thinks that the stock market and low vol factor return will be positive for her investment horizon, while at the same time probably believes that book to market an size will have a weak factor return; or at least that the net between low vol and those factor returns will be beneficial for the position."
   ]
  },
  {
   "cell_type": "markdown",
   "id": "e917b1c8",
   "metadata": {},
   "source": [
    "#### C."
   ]
  },
  {
   "cell_type": "code",
   "execution_count": 251,
   "id": "c946fa3f",
   "metadata": {},
   "outputs": [],
   "source": [
    "# Adjust date for risk retrieval to avoid data leakage\n",
    "def get_date_risk(date_factors):\n",
    "    query = f\"select distinct date from reg_coefs\"\n",
    "    eom_dates = sql.select_query(query).sort_values(by='date').reset_index(drop=True).date\n",
    "    eom_dates_factors_ind = eom_dates[eom_dates == date_factors].index[0]\n",
    "    eom_date_risk = eom_dates.loc[eom_dates_factors_ind - 1]\n",
    "    return eom_date_risk"
   ]
  },
  {
   "cell_type": "code",
   "execution_count": 252,
   "id": "1ad024c6",
   "metadata": {},
   "outputs": [],
   "source": [
    "def compute_assets_covariance(date_factors, ref_index=None):\n",
    "\n",
    "    # Date\n",
    "    date_risk = get_date_risk(date_factors) # previous month\n",
    "    date_factors_str = date_factors.strftime('%Y-%m-%d')\n",
    "    date_risk_str = date_risk.strftime('%Y-%m-%d')\n",
    "\n",
    "    # Factor exposure\n",
    "    factors = ['beta', 'bm', 'small', 'mom', 'lowvol']\n",
    "    query = f\"select * from crsp_monthly_returns_factors_sc where date = '{date_factors_str}'\"\n",
    "    ret_factors = sql.select_query(query)\n",
    "    X = ret_factors.set_index('permno')[factors]\n",
    "    if ref_index is not None:\n",
    "        X = X.reindex(ref_index)\n",
    "\n",
    "    # Factor covariance\n",
    "    map_factors = {'beta': 'beta', 'bm': 'bm', 'size': 'small', 'mom': 'mom', 'vol': 'lowvol'}\n",
    "    query = f\"select * from reg_cov_rho where date = '{date_risk_str}'\"\n",
    "    cov_rho = sql.select_query(query)\n",
    "    F = cov_rho.pivot(index='factor1', columns='factor2', values='cov')\n",
    "    F.rename(columns=map_factors, index=map_factors, inplace=True)\n",
    "    F = F.reindex(X.columns)[X.columns]\n",
    "\n",
    "    # Specific vol\n",
    "    query = f\"select * from reg_specific_vol where date = '{date_risk_str}'\"\n",
    "    vol = sql.select_query(query).set_index('permno')\n",
    "    vol = vol.reindex(X.index)\n",
    "    vol = vol.dropna()\n",
    "    X = X.reindex(vol.index)\n",
    "\n",
    "    # Asset covariance\n",
    "    Delta = pd.DataFrame(np.diag(vol.specific_vol), index=vol.index, columns=vol.index)\n",
    "    X.columns = F.columns\n",
    "    V = X @ F @ X.transpose() + Delta\n",
    "    \n",
    "    # Actual returns\n",
    "    actual_ret = ret_factors.set_index('permno').reindex(X.index)[['logret_1m']]\n",
    "    \n",
    "    return V, X, actual_ret"
   ]
  },
  {
   "cell_type": "code",
   "execution_count": 253,
   "id": "80e18ade",
   "metadata": {},
   "outputs": [],
   "source": [
    "def forecasted_volatility(date_factors, h, verbose=0):\n",
    "    \n",
    "    # Assets covariance\n",
    "    V, _, _ = compute_assets_covariance(date_factors, ref_index=h.index)\n",
    "\n",
    "    # Risk forecasts\n",
    "    forecasted_var = (h.transpose() @ V @ h).iloc[0, 0]\n",
    "    forecasted_vol = np.sqrt(forecasted_var)\n",
    "    \n",
    "    return forecasted_vol"
   ]
  },
  {
   "cell_type": "code",
   "execution_count": 254,
   "id": "2d33cb04",
   "metadata": {},
   "outputs": [
    {
     "data": {
      "text/plain": [
       "0.05781089624270992"
      ]
     },
     "execution_count": 254,
     "metadata": {},
     "output_type": "execute_result"
    }
   ],
   "source": [
    "forecasted_vol = forecasted_volatility(eom_date_factors, h)\n",
    "forecasted_vol"
   ]
  },
  {
   "cell_type": "markdown",
   "id": "d47b85b2",
   "metadata": {},
   "source": [
    "#### D."
   ]
  },
  {
   "cell_type": "code",
   "execution_count": 255,
   "id": "ccaaffdb",
   "metadata": {},
   "outputs": [],
   "source": [
    "query = f\"\"\"\n",
    "select permno, ticker, date, ret from crsp_returns\n",
    "where date between '20190101' and '20201231'\n",
    "and permno in ({','.join([str(permno) for permno in df_folio.permno])})\n",
    "\"\"\"\n",
    "daily_ret = sql.select_query(query)"
   ]
  },
  {
   "cell_type": "code",
   "execution_count": 256,
   "id": "5f58bca4",
   "metadata": {},
   "outputs": [],
   "source": [
    "daily_ret.to_csv('data/hw3_daily_returns_of_portfolio_stocks.csv', index=False)"
   ]
  },
  {
   "cell_type": "code",
   "execution_count": 257,
   "id": "cd369afd",
   "metadata": {},
   "outputs": [],
   "source": [
    "def actual_volatility(date_factors, h):\n",
    "    bool_year = daily_ret.date.dt.year == (date_factors + relativedelta(months=1)).year\n",
    "    bool_month = daily_ret.date.dt.month == (date_factors + relativedelta(months=1)).month\n",
    "    daily_piv = daily_ret.loc[bool_year & bool_month].pivot(index='date', columns='permno', values='ret')[h.index]\n",
    "    days = daily_piv.shape[0]\n",
    "    actual_portfolio_returns = daily_piv @ h\n",
    "    actual_vol = np.sqrt(np.var(actual_portfolio_returns) * days).iloc[0]\n",
    "    return actual_vol"
   ]
  },
  {
   "cell_type": "code",
   "execution_count": 259,
   "id": "78403565",
   "metadata": {},
   "outputs": [
    {
     "data": {
      "text/plain": [
       "0.04856673042909824"
      ]
     },
     "execution_count": 259,
     "metadata": {},
     "output_type": "execute_result"
    }
   ],
   "source": [
    "actual_volatility(eom_date_factors, h)"
   ]
  },
  {
   "cell_type": "markdown",
   "id": "cc7be577",
   "metadata": {},
   "source": [
    "The forecast was over-estimating volatility of the portfolio (ex-post)."
   ]
  },
  {
   "cell_type": "markdown",
   "id": "f20b4e1f",
   "metadata": {},
   "source": [
    "#### ii."
   ]
  },
  {
   "cell_type": "code",
   "execution_count": 260,
   "id": "94da10d6",
   "metadata": {},
   "outputs": [],
   "source": [
    "query = f\"select distinct date from reg_coefs\"\n",
    "eom_dates = sql.select_query(query).sort_values(by='date').reset_index(drop=True).date"
   ]
  },
  {
   "cell_type": "code",
   "execution_count": 261,
   "id": "af17ada8",
   "metadata": {},
   "outputs": [],
   "source": [
    "dates = eom_dates[eom_dates >= datetime(2019, 1, 1)]\n",
    "forecast_vols = []\n",
    "actual_vols = []\n",
    "for date in dates:\n",
    "    forecast_vols.append(forecasted_volatility(date, h))\n",
    "    actual_vols.append(actual_volatility(date, h))"
   ]
  },
  {
   "cell_type": "code",
   "execution_count": 262,
   "id": "719557c6",
   "metadata": {},
   "outputs": [],
   "source": [
    "vol_df = pd.DataFrame({'date': pd.to_datetime(dates), 'forecast': forecast_vols, 'actual': actual_vols}).set_index('date')"
   ]
  },
  {
   "cell_type": "code",
   "execution_count": 263,
   "id": "e9732473",
   "metadata": {},
   "outputs": [
    {
     "data": {
      "text/plain": [
       "Text(0, 0.5, 'Vol (%)')"
      ]
     },
     "execution_count": 263,
     "metadata": {},
     "output_type": "execute_result"
    },
    {
     "data": {
      "image/png": "[encoded data removed]",
      "text/plain": [
       "<Figure size 576x576 with 1 Axes>"
      ]
     },
     "metadata": {
      "needs_background": "light"
     },
     "output_type": "display_data"
    }
   ],
   "source": [
    "fig, ax = plt.subplots(figsize=(8, 8))\n",
    "(vol_df*100).plot(ax=ax)\n",
    "ax.set_xlabel('Date')\n",
    "ax.set_ylabel('Vol (%)')"
   ]
  },
  {
   "cell_type": "markdown",
   "id": "56e65593",
   "metadata": {},
   "source": [
    "#### iii."
   ]
  },
  {
   "cell_type": "code",
   "execution_count": 264,
   "id": "4b29e0ca",
   "metadata": {},
   "outputs": [
    {
     "data": {
      "text/plain": [
       "forecast    0.215177\n",
       "actual      0.274657\n",
       "dtype: float64"
      ]
     },
     "execution_count": 264,
     "metadata": {},
     "output_type": "execute_result"
    }
   ],
   "source": [
    "np.sqrt((vol_df**2).sum()/vol_df.shape[0]*12)"
   ]
  },
  {
   "cell_type": "markdown",
   "id": "28067499",
   "metadata": {},
   "source": [
    "In the end, the forecast ended up under-estimating the volatility over the period. Since COVID-19 caused a spike in vol, the small miss is somewhat justified. Over a longer time period the forecast could be more accurate, after all there has not been a crisis every two years."
   ]
  },
  {
   "cell_type": "markdown",
   "id": "7ee8c00c",
   "metadata": {},
   "source": [
    "## Question 2\n",
    "\n",
    "### (a)\n",
    "\n",
    "### i."
   ]
  },
  {
   "cell_type": "code",
   "execution_count": 265,
   "id": "bb0f6c33",
   "metadata": {},
   "outputs": [],
   "source": [
    "date_factors = datetime(2019, 12, 31)"
   ]
  },
  {
   "cell_type": "code",
   "execution_count": 266,
   "id": "7e7df11a",
   "metadata": {},
   "outputs": [],
   "source": [
    "V, X, actual_ret = compute_assets_covariance(date_factors)"
   ]
  },
  {
   "cell_type": "code",
   "execution_count": 267,
   "id": "c112dad1",
   "metadata": {},
   "outputs": [],
   "source": [
    "def compute_expected_returns(X, date_factors, years=10):\n",
    "\n",
    "    # Factor returns\n",
    "    reg_coefs = sql.select_query('select * from reg_coefs')\n",
    "    date_min = date_factors - relativedelta(years=years)\n",
    "    bool_date_range = (reg_coefs.date < date_factors) & (reg_coefs.date >= date_min)\n",
    "    factor_ret = reg_coefs.loc[bool_date_range, ['date', 'factor', 'coef']]\n",
    "    coef_map = {coef: coef for coef in factor_ret.factor.unique()}\n",
    "    coef_map['size'] = 'small'\n",
    "    coef_map['vol'] = 'lowvol'\n",
    "    factor_ret['factor'] = factor_ret.factor.map(coef_map)\n",
    "\n",
    "    # Expected return\n",
    "    expected_factor_ret = factor_ret.groupby('factor').mean()\n",
    "    expected_ret = (X @ expected_factor_ret).rename(columns={'coef': 'ret'})\n",
    "    \n",
    "    return expected_ret, expected_factor_ret"
   ]
  },
  {
   "cell_type": "code",
   "execution_count": 268,
   "id": "f8574b52",
   "metadata": {},
   "outputs": [
    {
     "data": {
      "image/png": "[encoded data removed]",
      "text/plain": [
       "<Figure size 432x288 with 1 Axes>"
      ]
     },
     "metadata": {
      "needs_background": "light"
     },
     "output_type": "display_data"
    }
   ],
   "source": [
    "expected_ret, expected_factor_ret = compute_expected_returns(X, date_factors, years=10)\n",
    "plt.hist(expected_ret, bins=20);"
   ]
  },
  {
   "cell_type": "code",
   "execution_count": 275,
   "id": "3391a708",
   "metadata": {},
   "outputs": [],
   "source": [
    "def compute_optimal_weights(expected_ret: pd.Series, V: pd.DataFrame, lmbda=3) -> pd.Series:\n",
    "\n",
    "    # Parameters\n",
    "    ret = np.array(expected_ret)\n",
    "    cov = np.array(V)\n",
    "    n = len(ret)\n",
    "    \n",
    "    # Variables\n",
    "    ones = np.ones((n, 1))\n",
    "    w = cp.Variable(n)\n",
    "\n",
    "    # Optimization\n",
    "    prob = cp.Problem(\n",
    "        cp.Minimize(-ret.T @ w\n",
    "                    + lmbda * cp.quad_form(w, cov)),\n",
    "        [w >= 0,\n",
    "         ones.T @ w == 1])\n",
    "    prob.solve()\n",
    "\n",
    "    # Weights\n",
    "    h = w.value\n",
    "    h[h < 0] = 0\n",
    "    h = h/h.sum()\n",
    "    h = pd.Series(h, expected_ret.index)\n",
    "    \n",
    "    return h"
   ]
  },
  {
   "cell_type": "code",
   "execution_count": 276,
   "id": "fed1a0e6",
   "metadata": {},
   "outputs": [],
   "source": [
    "h = compute_optimal_weights(expected_ret, V, lmbda=3)"
   ]
  },
  {
   "cell_type": "code",
   "execution_count": 277,
   "id": "89a415c6",
   "metadata": {},
   "outputs": [
    {
     "data": {
      "image/png": "[encoded data removed]",
      "text/plain": [
       "<Figure size 432x288 with 1 Axes>"
      ]
     },
     "metadata": {
      "needs_background": "light"
     },
     "output_type": "display_data"
    }
   ],
   "source": [
    "plt.hist(h, bins=20);"
   ]
  },
  {
   "cell_type": "code",
   "execution_count": 156,
   "id": "6474b6c4",
   "metadata": {},
   "outputs": [
    {
     "data": {
      "text/plain": [
       "0.011073529492856463"
      ]
     },
     "execution_count": 156,
     "metadata": {},
     "output_type": "execute_result"
    }
   ],
   "source": [
    "expected_port_ret = (h.transpose() @ X @ expected_factor_ret).iloc[0]\n",
    "expected_port_ret"
   ]
  },
  {
   "cell_type": "code",
   "execution_count": 157,
   "id": "d27217bd",
   "metadata": {},
   "outputs": [
    {
     "data": {
      "text/plain": [
       "0.02090787583955033"
      ]
     },
     "execution_count": 157,
     "metadata": {},
     "output_type": "execute_result"
    }
   ],
   "source": [
    "actual_port_ret = (h.transpose() @ actual_ret).iloc[0]\n",
    "actual_port_ret"
   ]
  },
  {
   "cell_type": "code",
   "execution_count": 248,
   "id": "9011eaa0",
   "metadata": {},
   "outputs": [
    {
     "data": {
      "text/plain": [
       "0.0015241401336248922"
      ]
     },
     "execution_count": 248,
     "metadata": {},
     "output_type": "execute_result"
    }
   ],
   "source": [
    "expected_port_var = h.transpose() @ V @ h\n",
    "expected_port_var"
   ]
  },
  {
   "cell_type": "code",
   "execution_count": 391,
   "id": "a66b570e",
   "metadata": {},
   "outputs": [
    {
     "name": "stdout",
     "output_type": "stream",
     "text": [
      "2020-11-30 00:00:00\r"
     ]
    }
   ],
   "source": [
    "trading_costs_bp = 10\n",
    "dates = eom_dates[eom_dates >= datetime(2015, 1, 1)]\n",
    "expected_port_rets = []\n",
    "expected_port_vars = []\n",
    "actual_port_rets_no_tc = []\n",
    "actual_port_rets_tc = []\n",
    "h_prev = None\n",
    "\n",
    "for date in dates:\n",
    "    print(date, end=\"\\r\")\n",
    "    V, X, actual_ret = compute_assets_covariance(date)\n",
    "    expected_ret, expected_factor_ret = compute_expected_returns(X, date)\n",
    "    h = compute_optimal_weights(expected_ret, V)\n",
    "    \n",
    "    # Transaction costs\n",
    "    if h_prev is not None:\n",
    "        df_h0 = pd.DataFrame(h_prev, columns=['h0'])\n",
    "        df_h1 = pd.DataFrame(h, columns=['h1'])\n",
    "        df_h = df_h0.join(df_h1, how='outer').fillna(0)\n",
    "        df_h['diff'] = (df_h['h1'] - df_h['h0']).abs()\n",
    "        # NICO: this should be corrected to take into account the returns of the position from t-1 to t!\n",
    "        transaction_costs_multiplier = 1 - df_h['diff'].sum()*trading_costs_bp/100/100\n",
    "    else:\n",
    "        transaction_costs_multiplier = 1\n",
    "    \n",
    "    expected_port_ret = (h.transpose() @ X @ expected_factor_ret).iloc[0]\n",
    "    expected_port_var = h.transpose() @ V @ h\n",
    "    actual_port_ret_no_tc = (h.transpose() @ actual_ret).iloc[0]\n",
    "    actual_port_ret_tc = transaction_costs_multiplier*(1 + actual_port_ret_no_tc) - 1\n",
    "    expected_port_rets.append(expected_port_ret)\n",
    "    expected_port_vars.append(expected_port_var)\n",
    "    actual_port_rets_no_tc.append(actual_port_ret_no_tc)\n",
    "    actual_port_rets_tc.append(actual_port_ret_tc)\n",
    "\n",
    "    h_prev = h"
   ]
  },
  {
   "cell_type": "code",
   "execution_count": 392,
   "id": "84d3707d",
   "metadata": {},
   "outputs": [
    {
     "data": {
      "text/html": [
       "<div>\n",
       "<style scoped>\n",
       "    .dataframe tbody tr th:only-of-type {\n",
       "        vertical-align: middle;\n",
       "    }\n",
       "\n",
       "    .dataframe tbody tr th {\n",
       "        vertical-align: top;\n",
       "    }\n",
       "\n",
       "    .dataframe thead th {\n",
       "        text-align: right;\n",
       "    }\n",
       "</style>\n",
       "<table border=\"1\" class=\"dataframe\">\n",
       "  <thead>\n",
       "    <tr style=\"text-align: right;\">\n",
       "      <th></th>\n",
       "      <th>expected return</th>\n",
       "      <th>expected variance</th>\n",
       "      <th>actual return no tc</th>\n",
       "      <th>actual return tc</th>\n",
       "      <th>mkt return</th>\n",
       "    </tr>\n",
       "    <tr>\n",
       "      <th>date</th>\n",
       "      <th></th>\n",
       "      <th></th>\n",
       "      <th></th>\n",
       "      <th></th>\n",
       "      <th></th>\n",
       "    </tr>\n",
       "  </thead>\n",
       "  <tbody>\n",
       "    <tr>\n",
       "      <th>2015-01-30</th>\n",
       "      <td>0.009555</td>\n",
       "      <td>0.001238</td>\n",
       "      <td>0.027811</td>\n",
       "      <td>0.027811</td>\n",
       "      <td>0.056167</td>\n",
       "    </tr>\n",
       "    <tr>\n",
       "      <th>2015-02-27</th>\n",
       "      <td>0.009668</td>\n",
       "      <td>0.001182</td>\n",
       "      <td>-0.006772</td>\n",
       "      <td>-0.006937</td>\n",
       "      <td>-0.018582</td>\n",
       "    </tr>\n",
       "    <tr>\n",
       "      <th>2015-03-31</th>\n",
       "      <td>0.009817</td>\n",
       "      <td>0.001206</td>\n",
       "      <td>-0.027467</td>\n",
       "      <td>-0.027645</td>\n",
       "      <td>0.004432</td>\n",
       "    </tr>\n",
       "    <tr>\n",
       "      <th>2015-04-30</th>\n",
       "      <td>0.009735</td>\n",
       "      <td>0.001213</td>\n",
       "      <td>0.012860</td>\n",
       "      <td>0.012714</td>\n",
       "      <td>0.012088</td>\n",
       "    </tr>\n",
       "    <tr>\n",
       "      <th>2015-05-29</th>\n",
       "      <td>0.009634</td>\n",
       "      <td>0.001202</td>\n",
       "      <td>-0.009952</td>\n",
       "      <td>-0.010088</td>\n",
       "      <td>-0.018826</td>\n",
       "    </tr>\n",
       "  </tbody>\n",
       "</table>\n",
       "</div>"
      ],
      "text/plain": [
       "            expected return  expected variance  actual return no tc  \\\n",
       "date                                                                  \n",
       "2015-01-30         0.009555           0.001238             0.027811   \n",
       "2015-02-27         0.009668           0.001182            -0.006772   \n",
       "2015-03-31         0.009817           0.001206            -0.027467   \n",
       "2015-04-30         0.009735           0.001213             0.012860   \n",
       "2015-05-29         0.009634           0.001202            -0.009952   \n",
       "\n",
       "            actual return tc  mkt return  \n",
       "date                                      \n",
       "2015-01-30          0.027811    0.056167  \n",
       "2015-02-27         -0.006937   -0.018582  \n",
       "2015-03-31         -0.027645    0.004432  \n",
       "2015-04-30          0.012714    0.012088  \n",
       "2015-05-29         -0.010088   -0.018826  "
      ]
     },
     "execution_count": 392,
     "metadata": {},
     "output_type": "execute_result"
    }
   ],
   "source": [
    "ret_df = pd.DataFrame({'date': pd.to_datetime(dates), \n",
    "                       'expected return': expected_port_rets, \n",
    "                       'expected variance': expected_port_vars,\n",
    "                       'actual return no tc': actual_port_rets_no_tc,\n",
    "                       'actual return tc': actual_port_rets_tc}\n",
    "                     ).set_index('date')\n",
    "\n",
    "# Market returns (log)\n",
    "reg_coefs = sql.select_query('select * from reg_coefs')\n",
    "bool_beta_dates = reg_coefs.date.isin(dates) & (reg_coefs.factor=='beta')\n",
    "mkt_ret = (\n",
    "    reg_coefs\n",
    "    .loc[bool_beta_dates, ['date', 'coef']]\n",
    "    .set_index('date')\n",
    "    .rename(columns={'coef': 'mkt return'}))\n",
    "\n",
    "ret_df = ret_df.join(mkt_ret)\n",
    "ret_df.head()"
   ]
  },
  {
   "cell_type": "markdown",
   "id": "d65309be",
   "metadata": {},
   "source": [
    "### ii."
   ]
  },
  {
   "cell_type": "markdown",
   "id": "181365dc",
   "metadata": {},
   "source": [
    "I'm using log returns here so I can compute the mean directly. We note annualized expected returns and annualized actual returns are quite close."
   ]
  },
  {
   "cell_type": "code",
   "execution_count": 393,
   "id": "f5fd243a",
   "metadata": {},
   "outputs": [
    {
     "data": {
      "text/html": [
       "<div>\n",
       "<style scoped>\n",
       "    .dataframe tbody tr th:only-of-type {\n",
       "        vertical-align: middle;\n",
       "    }\n",
       "\n",
       "    .dataframe tbody tr th {\n",
       "        vertical-align: top;\n",
       "    }\n",
       "\n",
       "    .dataframe thead th {\n",
       "        text-align: right;\n",
       "    }\n",
       "</style>\n",
       "<table border=\"1\" class=\"dataframe\">\n",
       "  <thead>\n",
       "    <tr style=\"text-align: right;\">\n",
       "      <th></th>\n",
       "      <th>Returns</th>\n",
       "      <th>Volatility</th>\n",
       "      <th>Sharpe ratio</th>\n",
       "    </tr>\n",
       "  </thead>\n",
       "  <tbody>\n",
       "    <tr>\n",
       "      <th>expected</th>\n",
       "      <td>0.124930</td>\n",
       "      <td>0.120300</td>\n",
       "      <td>1.038488</td>\n",
       "    </tr>\n",
       "    <tr>\n",
       "      <th>actual no tc</th>\n",
       "      <td>0.099497</td>\n",
       "      <td>0.134096</td>\n",
       "      <td>0.741987</td>\n",
       "    </tr>\n",
       "    <tr>\n",
       "      <th>actual tc</th>\n",
       "      <td>0.097236</td>\n",
       "      <td>0.134052</td>\n",
       "      <td>0.725361</td>\n",
       "    </tr>\n",
       "    <tr>\n",
       "      <th>mkt</th>\n",
       "      <td>0.096337</td>\n",
       "      <td>0.154231</td>\n",
       "      <td>0.624624</td>\n",
       "    </tr>\n",
       "  </tbody>\n",
       "</table>\n",
       "</div>"
      ],
      "text/plain": [
       "               Returns  Volatility  Sharpe ratio\n",
       "expected      0.124930    0.120300      1.038488\n",
       "actual no tc  0.099497    0.134096      0.741987\n",
       "actual tc     0.097236    0.134052      0.725361\n",
       "mkt           0.096337    0.154231      0.624624"
      ]
     },
     "execution_count": 393,
     "metadata": {},
     "output_type": "execute_result"
    }
   ],
   "source": [
    "# Average returns\n",
    "name_map = {'expected return': 'expected',\n",
    "            'actual return no tc': 'actual no tc', \n",
    "            'actual return tc': 'actual tc', \n",
    "            'mkt return': 'mkt'}\n",
    "ret_avg = ret_df[['expected return', 'actual return no tc', 'actual return tc', 'mkt return']].mean()*12\n",
    "ret_avg.index = ret_avg.index.map(name_map)\n",
    "\n",
    "# Volatility\n",
    "ret_std = ret_df[['actual return no tc', 'actual return tc', 'mkt return']].std()*np.sqrt(12)\n",
    "ret_std.index = ret_std.index.map(name_map)\n",
    "ret_std.loc['expected'] = np.sqrt(ret_df['expected variance'].mean()*12)\n",
    "ret_std = ret_std.reindex(ret_avg.index)\n",
    "\n",
    "# Sharpe ratio\n",
    "sharpe = ret_avg/ret_std\n",
    "\n",
    "# Collect results\n",
    "ret_summary = pd.concat((ret_avg, ret_std, sharpe), axis=1)\n",
    "ret_summary.columns = ['Returns', 'Volatility', 'Sharpe ratio']\n",
    "ret_summary"
   ]
  },
  {
   "cell_type": "code",
   "execution_count": 394,
   "id": "aeec3868",
   "metadata": {},
   "outputs": [
    {
     "data": {
      "text/html": [
       "<div>\n",
       "<style scoped>\n",
       "    .dataframe tbody tr th:only-of-type {\n",
       "        vertical-align: middle;\n",
       "    }\n",
       "\n",
       "    .dataframe tbody tr th {\n",
       "        vertical-align: top;\n",
       "    }\n",
       "\n",
       "    .dataframe thead th {\n",
       "        text-align: right;\n",
       "    }\n",
       "</style>\n",
       "<table border=\"1\" class=\"dataframe\">\n",
       "  <thead>\n",
       "    <tr style=\"text-align: right;\">\n",
       "      <th></th>\n",
       "      <th>Returns</th>\n",
       "      <th>Volatility</th>\n",
       "      <th>Sharpe ratio</th>\n",
       "    </tr>\n",
       "  </thead>\n",
       "  <tbody>\n",
       "    <tr>\n",
       "      <th>expected</th>\n",
       "      <td>0.124930</td>\n",
       "      <td>0.120300</td>\n",
       "      <td>1.038488</td>\n",
       "    </tr>\n",
       "    <tr>\n",
       "      <th>actual no tc</th>\n",
       "      <td>0.099497</td>\n",
       "      <td>0.134096</td>\n",
       "      <td>0.741987</td>\n",
       "    </tr>\n",
       "  </tbody>\n",
       "</table>\n",
       "</div>"
      ],
      "text/plain": [
       "               Returns  Volatility  Sharpe ratio\n",
       "expected      0.124930    0.120300      1.038488\n",
       "actual no tc  0.099497    0.134096      0.741987"
      ]
     },
     "execution_count": 394,
     "metadata": {},
     "output_type": "execute_result"
    }
   ],
   "source": [
    "ret_summary.loc[['expected', 'actual no tc']]"
   ]
  },
  {
   "cell_type": "markdown",
   "id": "57d5a01e",
   "metadata": {},
   "source": [
    "On average the model expected portfolio returns to be 12.5% annualy and reality was 9.9%. Expected return was overly optimistic. Volatility was also overly optimistic. A possible explanation is that any stock-level error in forecasted returns and/or forecasted variance that make the stock more atractive may be picked up by the optimizer which will likely concentrate the portfolio weights to that stock, making the overall result overly optimistic. The forecasted Sharpe ratio was extremely optimistic, as seen by the Sharpe ratio of 1 when the actual Sharpe ratio was 0.74."
   ]
  },
  {
   "cell_type": "markdown",
   "id": "e2dbb370",
   "metadata": {},
   "source": [
    "### iii"
   ]
  },
  {
   "cell_type": "code",
   "execution_count": 395,
   "id": "c48d40c8",
   "metadata": {},
   "outputs": [
    {
     "data": {
      "text/plain": [
       "''"
      ]
     },
     "execution_count": 395,
     "metadata": {},
     "output_type": "execute_result"
    },
    {
     "data": {
      "image/png": "[encoded data removed]",
      "text/plain": [
       "<Figure size 720x504 with 1 Axes>"
      ]
     },
     "metadata": {
      "needs_background": "light"
     },
     "output_type": "display_data"
    }
   ],
   "source": [
    "fig, ax = plt.subplots(figsize=(10, 7))\n",
    "df_plot = (ret_df[['actual return no tc', 'actual return tc', 'mkt return']]\n",
    "           .rename(columns=name_map)\n",
    "           .cumsum())\n",
    "df_plot.loc[datetime(2015, 1, 1)] = 0\n",
    "df_plot = df_plot.sort_index()\n",
    "df_plot.plot(ax=ax)\n",
    "ax.set_ylabel('Cumulative returns')\n",
    "ax.set_xlabel('Date')\n",
    ";"
   ]
  },
  {
   "cell_type": "code",
   "execution_count": 397,
   "id": "20837bcb",
   "metadata": {},
   "outputs": [
    {
     "data": {
      "text/html": [
       "<div>\n",
       "<style scoped>\n",
       "    .dataframe tbody tr th:only-of-type {\n",
       "        vertical-align: middle;\n",
       "    }\n",
       "\n",
       "    .dataframe tbody tr th {\n",
       "        vertical-align: top;\n",
       "    }\n",
       "\n",
       "    .dataframe thead th {\n",
       "        text-align: right;\n",
       "    }\n",
       "</style>\n",
       "<table border=\"1\" class=\"dataframe\">\n",
       "  <thead>\n",
       "    <tr style=\"text-align: right;\">\n",
       "      <th></th>\n",
       "      <th>Returns</th>\n",
       "      <th>Volatility</th>\n",
       "      <th>Sharpe ratio</th>\n",
       "    </tr>\n",
       "  </thead>\n",
       "  <tbody>\n",
       "    <tr>\n",
       "      <th>actual no tc</th>\n",
       "      <td>0.099497</td>\n",
       "      <td>0.134096</td>\n",
       "      <td>0.741987</td>\n",
       "    </tr>\n",
       "    <tr>\n",
       "      <th>actual tc</th>\n",
       "      <td>0.097236</td>\n",
       "      <td>0.134052</td>\n",
       "      <td>0.725361</td>\n",
       "    </tr>\n",
       "    <tr>\n",
       "      <th>mkt</th>\n",
       "      <td>0.096337</td>\n",
       "      <td>0.154231</td>\n",
       "      <td>0.624624</td>\n",
       "    </tr>\n",
       "  </tbody>\n",
       "</table>\n",
       "</div>"
      ],
      "text/plain": [
       "               Returns  Volatility  Sharpe ratio\n",
       "actual no tc  0.099497    0.134096      0.741987\n",
       "actual tc     0.097236    0.134052      0.725361\n",
       "mkt           0.096337    0.154231      0.624624"
      ]
     },
     "execution_count": 397,
     "metadata": {},
     "output_type": "execute_result"
    }
   ],
   "source": [
    "ret_summary.loc[['actual no tc', 'actual tc', 'mkt']]"
   ]
  },
  {
   "cell_type": "markdown",
   "id": "81b2e0ba",
   "metadata": {},
   "source": [
    "Actual return of the portfolio is better than the market (9.9% without tc, 9.7% with tc, and 9.6% for the market), standard deviation is lower (around 13.4% regardless of tc, and 15.4% for the market) and Sharpe ratio is higher (0.74 without tc, 0.72 with tc and 0.62 for the market).\n",
    "\n",
    "Based on results, this strategy seems to be a reasonable alternative since returns were similar and volatility was lower, giving a higher Sharpe ratio than the market. It does seem though that portfolio turnover is high, since the optimizations weights are not linked in anyway from one period to the next. To have a more implementable portfolio it would be good to first improve portfolio turnover."
   ]
  },
  {
   "cell_type": "markdown",
   "id": "016cf05e",
   "metadata": {},
   "source": [
    "### (b)\n",
    "\n",
    "It does have a financial interpretation. The extra term is representing transaction costs based on the change of the portfolio weights. The value of $\\nu$ would represent the percentage charged for transaction costs (the cost of transaction costs in USD would be $\\nu$ times traded amount in USD). There is a slight improvement that can be done since we are not considering the returns of the position between $t-1$ and $t$. A more precise term for the objective function would use the weights $h_{t-1}$ multiplied by the 1 plus the returns of the position (and then normalized) instead of $h_{t-1}$ directly.\n",
    "\n",
    "Benefits:\n",
    "- Sparse solution given use of L1 norm, which makes the number of stocks hold at any moment significantly lower.\n",
    "- There is now an explicit link between portfolio weights of consecutive periods.\n",
    "- Transaction costs of a change in position are now taken into account. This is turn should make the resulting strategy have lower turnover and thus lower transactions costs, as compared with the original strategy or one that uses the L1 norm of $h_t$ without substracting $h_{t-1}$.\n",
    "\n",
    "### (c)\n",
    "\n",
    "There are at least two ways I can think of for addressing this issue:\n",
    "\n",
    "1. Adding industry-based factors to the factor model. A possibility would be to add one column per industry, where one meaning the stock belongs to the industry (and no other) and 0 meaning it does not belong to the industry. We could even allow for flexibility here for companies that participate in different industries by making the sum of the weights for all considered industries equal to 1. One draw down of this approach is that now the weighted expected value of these new factor exposures would not be 0, and thus the market return would be distorted. We could address that by mapping the previous [0, 1] range for the column to the range [-1, 1], and then standaridizing the factor exposures as done with the rest. This approach would have the benefit of adding new dimensions to the risk of a certain industry, and thus the benefits of diversification across industries would be better measured by the factor model.\n",
    "2. Changing the optimization model to be industry concious. One posibility would be to simply include hard industry constraints (e.g. no more than 10% in banking). Another more flexible approach would be to penalize for industry concentration in the objective function."
   ]
  },
  {
   "cell_type": "code",
   "execution_count": null,
   "id": "16c523ed",
   "metadata": {},
   "outputs": [],
   "source": []
  },
  {
   "cell_type": "code",
   "execution_count": null,
   "id": "74224ef2",
   "metadata": {},
   "outputs": [],
   "source": []
  },
  {
   "cell_type": "code",
   "execution_count": null,
   "id": "ab97adfa",
   "metadata": {},
   "outputs": [],
   "source": []
  },
  {
   "cell_type": "code",
   "execution_count": null,
   "id": "f899ded5",
   "metadata": {},
   "outputs": [],
   "source": []
  }
 ],
 "metadata": {
  "kernelspec": {
   "display_name": "Python 3 (ipykernel)",
   "language": "python",
   "name": "python3"
  },
  "language_info": {
   "codemirror_mode": {
    "name": "ipython",
    "version": 3
   },
   "file_extension": ".py",
   "mimetype": "text/x-python",
   "name": "python",
   "nbconvert_exporter": "python",
   "pygments_lexer": "ipython3",
   "version": "3.9.5"
  }
 },
 "nbformat": 4,
 "nbformat_minor": 5
}
